version https://git-lfs.github.com/spec/v1
oid sha256:7ba04fc3fc012be9a20a134993c61d9b98bdef338edde0fdc8086daee2f6dc2d
size 38207
